{
 "cells": [
  {
   "cell_type": "code",
   "execution_count": 32,
   "metadata": {},
   "outputs": [],
   "source": [
    "import pandas as pd\n",
    "import numpy as np\n",
    "from sklearn.feature_extraction.text import TfidfVectorizer\n",
    "from sklearn.metrics.pairwise import cosine_similarity\n",
    "import spacy\n"
   ]
  },
  {
   "cell_type": "code",
   "execution_count": 33,
   "metadata": {},
   "outputs": [],
   "source": [
    "# Example usage\n",
    "user_ingredients = [\"vaj\", \"fokhagyma\", \"kolbász\"]\n",
    "query = \"Egy sajtos levest szeretnék enni, fokhagymás\"\n",
    "user_recipe_id = 3"
   ]
  },
  {
   "cell_type": "code",
   "execution_count": 34,
   "metadata": {},
   "outputs": [
    {
     "name": "stdout",
     "output_type": "stream",
     "text": [
      "                                 title  \\\n",
      "0                       Abált szalonna   \n",
      "1                         Áfonya torta   \n",
      "2                     Áfonyás húsgolyó   \n",
      "3  Áfonyás, kevert sütemény mandulával   \n",
      "4          Áfonyás-narancsos sajttorta   \n",
      "\n",
      "                                     ingredients_str  \n",
      "0  tokaszalonna só fokhagyma fűszerpaprika friss ...  \n",
      "1  tönköly búzaliszt makadámdió szójatejföl nádcu...  \n",
      "2                                                     \n",
      "3  a morzsához: 40 g liszt 100 g cukor 1 tk őrölt...  \n",
      "4  5 dk teljes kiőrlésű búzadarás keksz 5 dkg zab...  \n"
     ]
    }
   ],
   "source": [
    "df = pd.read_json(\"recipes.json\")\n",
    "\n",
    "df['ingredients_str'] = df['ingredients'].apply(lambda x: \" \".join(x))\n",
    "\n",
    "# Check the preprocessed data\n",
    "print(df[['title', 'ingredients_str']].head())"
   ]
  },
  {
   "cell_type": "code",
   "execution_count": 35,
   "metadata": {},
   "outputs": [],
   "source": [
    "vectorizer = TfidfVectorizer()\n",
    "ingredient_vectors = vectorizer.fit_transform(df['ingredients_str'])\n",
    "\n",
    "# Find similar recipes\n",
    "similarity_matrix = cosine_similarity(ingredient_vectors)"
   ]
  },
  {
   "cell_type": "code",
   "execution_count": 36,
   "metadata": {},
   "outputs": [],
   "source": [
    "def recommend_recipe(recipe_id, similarity_matrix, df, top_n=5):\n",
    "    sim_scores = list(enumerate(similarity_matrix[recipe_id]))\n",
    "    sim_scores = sorted(sim_scores, key=lambda x: x[1], reverse=True)\n",
    "    top_recipes = [df.iloc[i[0]] for i in sim_scores[1:top_n+1]]\n",
    "    return top_recipes"
   ]
  },
  {
   "cell_type": "code",
   "execution_count": 37,
   "metadata": {},
   "outputs": [
    {
     "data": {
      "text/plain": [
       "[id                                                              4590\n",
       " title                            Áfonyás, kevert sütemény mandulával\n",
       " content            A sütőt 190 fokra előmelegítjük. Egy 20x30 cm-...\n",
       " ingredients        [a morzsához:, 40 g liszt, 100 g cukor, 1 tk ő...\n",
       " ingredients_str    a morzsához: 40 g liszt 100 g cukor 1 tk őrölt...\n",
       " Name: 4590, dtype: object,\n",
       " id                                                              3588\n",
       " title                                            Céklás-almás morzsa\n",
       " content            Egy keverőtálban összekeverünk mandulalisztet,...\n",
       " ingredients        [50 g pekándió, 50 g fenyőmag, 150 g cékla, ba...\n",
       " ingredients_str    50 g pekándió 50 g fenyőmag 150 g cékla balzsa...\n",
       " Name: 3588, dtype: object,\n",
       " id                                                               703\n",
       " title                                                         Éclair\n",
       " content            A sütőt 200 fokra előmelegítjük A tejet, vizet...\n",
       " ingredients        [a tésztához:, 12,5 dkg liszt, 2 dl tej, 0,5 d...\n",
       " ingredients_str    a tésztához: 12,5 dkg liszt 2 dl tej 0,5 dl ví...\n",
       " Name: 703, dtype: object,\n",
       " id                                                              4657\n",
       " title                                                         Éclair\n",
       " content            A sütőt 200 fokra előmelegítjük A tejet, vizet...\n",
       " ingredients        [a tésztához:, 12,5 dkg liszt, 2 dl tej, 0,5 d...\n",
       " ingredients_str    a tésztához: 12,5 dkg liszt 2 dl tej 0,5 dl ví...\n",
       " Name: 4657, dtype: object,\n",
       " id                                                              2469\n",
       " title                                      Répatorta muffin formában\n",
       " content            A cukrot, az olajat, a narancslevet a vaníliát...\n",
       " ingredients        [20 dkg barna cukor, 0,75 dl semleges ízű olaj...\n",
       " ingredients_str    20 dkg barna cukor 0,75 dl semleges ízű olaj 2...\n",
       " Name: 2469, dtype: object]"
      ]
     },
     "execution_count": 37,
     "metadata": {},
     "output_type": "execute_result"
    }
   ],
   "source": [
    "# Find similar recipes to the recipe that has 3 as ID\n",
    "recommend_recipe(user_recipe_id, similarity_matrix, df)"
   ]
  },
  {
   "cell_type": "code",
   "execution_count": 38,
   "metadata": {},
   "outputs": [
    {
     "name": "stdout",
     "output_type": "stream",
     "text": [
      "                                 title  \\\n",
      "0                       Abált szalonna   \n",
      "1                         Áfonya torta   \n",
      "2                     Áfonyás húsgolyó   \n",
      "3  Áfonyás, kevert sütemény mandulával   \n",
      "4          Áfonyás-narancsos sajttorta   \n",
      "\n",
      "                              ingredients_normalized  \n",
      "0  [tokaszalonna, só, fokhagyma, fűszerpaprika, f...  \n",
      "1  [tönköly búzaliszt, makadámdió, szójatejföl, n...  \n",
      "2                                                 []  \n",
      "3  [a morzsához:, 40 g liszt, 100 g cukor, 1 tk ő...  \n",
      "4  [5 dk teljes kiőrlésű búzadarás keksz, 5 dkg z...  \n"
     ]
    }
   ],
   "source": [
    "# Normalize ingredients (convert to lowercase for consistency)\n",
    "df['ingredients_normalized'] = df['ingredients'].apply(\n",
    "    lambda x: [ingredient.lower() for ingredient in x]\n",
    ")\n",
    "\n",
    "# Check the normalized data\n",
    "print(df[['title', 'ingredients_normalized']].head())"
   ]
  },
  {
   "cell_type": "code",
   "execution_count": 39,
   "metadata": {},
   "outputs": [
    {
     "name": "stdout",
     "output_type": "stream",
     "text": [
      "        id                                              title  \\\n",
      "1704  1704                     Lasagne cukkínivel és lazaccal   \n",
      "4460  4460  Lazacfilé aszalt paradicsomos pestoval és bazs...   \n",
      "4368  4368                      Bélszín mare e monti szósszal   \n",
      "328    328  Borjútekercs marsalaval ízesített kacsamájjal ...   \n",
      "2409  2409                       Radicchios-mentás palacsinta   \n",
      "\n",
      "      ingredient_overlap  \n",
      "1704                   2  \n",
      "4460                   2  \n",
      "4368                   2  \n",
      "328                    2  \n",
      "2409                   2  \n"
     ]
    }
   ],
   "source": [
    "def find_recipes_by_ingredients(user_ingredients, data, top_n=5):\n",
    "    user_ingredients = [ingredient.lower() for ingredient in user_ingredients]  # Normalize user input\n",
    "    \n",
    "    # Calculate overlap score for each recipe\n",
    "    data['ingredient_overlap'] = data['ingredients_normalized'].apply(\n",
    "        lambda recipe_ingredients: len(set(user_ingredients) & set(recipe_ingredients))\n",
    "    )\n",
    "    \n",
    "    # Sort recipes by overlap score in descending order\n",
    "    recommendations = data.sort_values(by='ingredient_overlap', ascending=False).head(top_n)\n",
    "    \n",
    "    # Return the top matching recipes\n",
    "    return recommendations[['id', 'title', 'ingredient_overlap']]\n",
    "\n",
    "print(find_recipes_by_ingredients(user_ingredients, df))"
   ]
  },
  {
   "cell_type": "code",
   "execution_count": 40,
   "metadata": {},
   "outputs": [
    {
     "name": "stdout",
     "output_type": "stream",
     "text": [
      "        id                                              title  combined_score\n",
      "2518  2518  Rosé kacsamell grillezett édesburgonyával és c...        1.421247\n",
      "2279  2279           Párolt bárány bébirépával és burgonyával        1.416472\n",
      "2831  2831                                  Sütőtökös rizottó        1.411917\n",
      "2338  2338                            Pisztráng májjal töltve        1.411856\n",
      "2409  2409                       Radicchios-mentás palacsinta        1.411794\n"
     ]
    }
   ],
   "source": [
    "def combined_recommendation(user_ingredients, similarity_matrix, data, top_n=5):\n",
    "    # Match by ingredients\n",
    "    ingredient_matches = find_recipes_by_ingredients(user_ingredients, data, top_n=None)\n",
    "    \n",
    "    # Add similarity scores\n",
    "    ingredient_matches['similarity_score'] = ingredient_matches['id'].apply(\n",
    "        lambda recipe_id: similarity_matrix[data.index[data['id'] == recipe_id][0]].mean()\n",
    "    )\n",
    "    \n",
    "    # Combine scores (weighted average)\n",
    "    ingredient_matches['combined_score'] = ingredient_matches['ingredient_overlap'] * 0.7 + ingredient_matches['similarity_score'] * 0.3\n",
    "    \n",
    "    # Sort by combined score\n",
    "    recommendations = ingredient_matches.sort_values(by='combined_score', ascending=False).head(top_n)\n",
    "    \n",
    "    return recommendations[['id', 'title', 'combined_score']]\n",
    "\n",
    "# Example usage\n",
    "print(combined_recommendation(user_ingredients, similarity_matrix, df))\n"
   ]
  },
  {
   "cell_type": "code",
   "execution_count": 41,
   "metadata": {},
   "outputs": [],
   "source": [
    "# Load spaCy's NLP model\n",
    "nlp = spacy.load(\"en_core_web_sm\")\n",
    "\n",
    "# Example recipe data\n",
    "data = pd.read_json(\"recipes.json\")\n",
    "\n",
    "# Normalize ingredients and combine features\n",
    "data['ingredients_normalized'] = data['ingredients'].apply(lambda x: [ing.lower() for ing in x])\n",
    "data['ingredients_str'] = data['ingredients_normalized'].apply(lambda x: \" \".join(x))\n",
    "data['combined_features'] = data['ingredients_str'] + \" \" + data['content']\n",
    "\n",
    "# Vectorize the combined features for similarity search\n",
    "vectorizer = TfidfVectorizer()\n",
    "tfidf_matrix = vectorizer.fit_transform(data['combined_features'])\n"
   ]
  },
  {
   "cell_type": "code",
   "execution_count": 42,
   "metadata": {},
   "outputs": [
    {
     "name": "stdout",
     "output_type": "stream",
     "text": [
      "        id                                              title  \\\n",
      "1403  1403                                         Kagyló 2 X   \n",
      "3922  3922                          Krumplis flekni lekvárral   \n",
      "4518  4518   Sárgarépa-póréhagyma krémleves sajtos ropogóssal   \n",
      "718    718         Édesburgonya-krémleves chilis rákfarkakkal   \n",
      "3216  3216  „Torta” burgonyából és taleggio sajtból, debre...   \n",
      "\n",
      "      similarity_score  \n",
      "1403          0.152379  \n",
      "3922          0.146394  \n",
      "4518          0.136020  \n",
      "718           0.128300  \n",
      "3216          0.112828  \n",
      "        id                                            title  similarity_score\n",
      "3378  3378                       Vörösboros spanyol kolbász          0.250355\n",
      "2425  2425  Rakott krumpli túróval, szalonnával, kolbásszal          0.221725\n",
      "4663  4663                                Egylábasos tészta          0.214181\n",
      "738    738                                Egylábasos tészta          0.214181\n",
      "409    409                                Cékla burgonyával          0.202515\n"
     ]
    }
   ],
   "source": [
    "def recommend_recipes(query, data, tfidf_matrix, top_n=5):\n",
    "    \"\"\"\n",
    "    Recommend recipes based on free text or ingredient list query.\n",
    "    \"\"\"\n",
    "    if isinstance(query, list):  # If input is a list of ingredients\n",
    "        query = \" \".join([q.lower() for q in query])  # Join ingredients into a single string\n",
    "    \n",
    "    # Use spaCy to process free-text queries\n",
    "    doc = nlp(query.lower())\n",
    "    keywords = \" \".join([token.text for token in doc if token.is_alpha])  # Extract meaningful words\n",
    "    \n",
    "    # Transform the query into a TF-IDF vector\n",
    "    query_vector = vectorizer.transform([keywords])\n",
    "    \n",
    "    # Calculate cosine similarity with the recipe matrix\n",
    "    similarities = cosine_similarity(query_vector, tfidf_matrix).flatten()\n",
    "    \n",
    "    # Sort recipes by similarity score\n",
    "    data['similarity_score'] = similarities\n",
    "    recommendations = data.sort_values(by='similarity_score', ascending=False).head(top_n)\n",
    "    \n",
    "    return recommendations[['id', 'title', 'similarity_score']]\n",
    "\n",
    "print(recommend_recipes(query, data, tfidf_matrix))\n",
    "\n",
    "\n",
    "print(recommend_recipes(user_ingredients, data, tfidf_matrix))\n"
   ]
  },
  {
   "cell_type": "code",
   "execution_count": 43,
   "metadata": {},
   "outputs": [
    {
     "name": "stdout",
     "output_type": "stream",
     "text": [
      "        id                              title  combined_score\n",
      "3440  3440  Zöldsaláta balzsamos gombaraguval        0.435618\n",
      "3403  3403              Zacskóban sült csirke        0.423591\n",
      "4834  4834                             Quiche        0.370622\n",
      "4503  4503                             Quiche        0.370622\n",
      "4724  4724              Juhtúrós borkorcsolya        0.367814\n"
     ]
    }
   ],
   "source": [
    "def combined_scoring(query, data, tfidf_matrix, top_n=5):\n",
    "    # Calculate text similarity\n",
    "    recommendations = recommend_recipes(query, data, tfidf_matrix, top_n=None)\n",
    "    \n",
    "    # Calculate ingredient overlap for ingredient-based queries\n",
    "    if isinstance(query, list):\n",
    "        query_set = set([q.lower() for q in query])\n",
    "        data['ingredient_overlap'] = data['ingredients_normalized'].apply(\n",
    "            lambda x: len(query_set & set(x))\n",
    "        )\n",
    "    else:\n",
    "        data['ingredient_overlap'] = 0\n",
    "    \n",
    "    # Combine similarity and overlap scores\n",
    "    data['combined_score'] = data['similarity_score'] * 0.7 + data['ingredient_overlap'] * 0.3\n",
    "    recommendations = data.sort_values(by='combined_score', ascending=False).head(top_n)\n",
    "    \n",
    "    return recommendations[['id', 'title', 'combined_score']]\n",
    "\n",
    "# Example with combined scoring\n",
    "print(combined_scoring(query_ingredients, data, tfidf_matrix))\n"
   ]
  }
 ],
 "metadata": {
  "kernelspec": {
   "display_name": "recipe_env",
   "language": "python",
   "name": "recipe_env"
  },
  "language_info": {
   "codemirror_mode": {
    "name": "ipython",
    "version": 3
   },
   "file_extension": ".py",
   "mimetype": "text/x-python",
   "name": "python",
   "nbconvert_exporter": "python",
   "pygments_lexer": "ipython3",
   "version": "3.9.20"
  }
 },
 "nbformat": 4,
 "nbformat_minor": 4
}
