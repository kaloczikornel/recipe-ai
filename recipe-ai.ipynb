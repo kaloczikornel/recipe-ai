{
 "cells": [
  {
   "cell_type": "code",
   "execution_count": 1,
   "metadata": {},
   "outputs": [
    {
     "name": "stdout",
     "output_type": "stream",
     "text": [
      "Requirement already satisfied: scikit-learn in /opt/homebrew/Cellar/jupyterlab/4.2.5_1/libexec/lib/python3.12/site-packages (1.5.2)\n",
      "Requirement already satisfied: pandas in /opt/homebrew/Cellar/jupyterlab/4.2.5_1/libexec/lib/python3.12/site-packages (2.2.3)\n",
      "Requirement already satisfied: numpy in /opt/homebrew/Cellar/jupyterlab/4.2.5_1/libexec/lib/python3.12/site-packages (2.1.3)\n",
      "Requirement already satisfied: scipy>=1.6.0 in /opt/homebrew/Cellar/jupyterlab/4.2.5_1/libexec/lib/python3.12/site-packages (from scikit-learn) (1.14.1)\n",
      "Requirement already satisfied: joblib>=1.2.0 in /opt/homebrew/Cellar/jupyterlab/4.2.5_1/libexec/lib/python3.12/site-packages (from scikit-learn) (1.4.2)\n",
      "Requirement already satisfied: threadpoolctl>=3.1.0 in /opt/homebrew/Cellar/jupyterlab/4.2.5_1/libexec/lib/python3.12/site-packages (from scikit-learn) (3.5.0)\n",
      "Requirement already satisfied: python-dateutil>=2.8.2 in /opt/homebrew/Cellar/jupyterlab/4.2.5_1/libexec/lib/python3.12/site-packages (from pandas) (2.9.0.post0)\n",
      "Requirement already satisfied: pytz>=2020.1 in /opt/homebrew/Cellar/jupyterlab/4.2.5_1/libexec/lib/python3.12/site-packages (from pandas) (2024.2)\n",
      "Requirement already satisfied: tzdata>=2022.7 in /opt/homebrew/Cellar/jupyterlab/4.2.5_1/libexec/lib/python3.12/site-packages (from pandas) (2024.2)\n",
      "Requirement already satisfied: six>=1.5 in /opt/homebrew/Cellar/jupyterlab/4.2.5_1/libexec/lib/python3.12/site-packages (from python-dateutil>=2.8.2->pandas) (1.16.0)\n",
      "\n",
      "\u001b[1m[\u001b[0m\u001b[34;49mnotice\u001b[0m\u001b[1;39;49m]\u001b[0m\u001b[39;49m A new release of pip is available: \u001b[0m\u001b[31;49m24.2\u001b[0m\u001b[39;49m -> \u001b[0m\u001b[32;49m24.3.1\u001b[0m\n",
      "\u001b[1m[\u001b[0m\u001b[34;49mnotice\u001b[0m\u001b[1;39;49m]\u001b[0m\u001b[39;49m To update, run: \u001b[0m\u001b[32;49m/opt/homebrew/Cellar/jupyterlab/4.2.5_1/libexec/bin/python -m pip install --upgrade pip\u001b[0m\n",
      "Note: you may need to restart the kernel to use updated packages.\n"
     ]
    }
   ],
   "source": [
    "pip install scikit-learn pandas numpy"
   ]
  },
  {
   "cell_type": "code",
   "execution_count": 2,
   "metadata": {},
   "outputs": [],
   "source": [
    "import pandas as pd\n",
    "import numpy as np\n",
    "from sklearn.feature_extraction.text import TfidfVectorizer\n",
    "from sklearn.metrics.pairwise import cosine_similarity\n"
   ]
  },
  {
   "cell_type": "code",
   "execution_count": 3,
   "metadata": {},
   "outputs": [
    {
     "data": {
      "text/html": [
       "<div>\n",
       "<style scoped>\n",
       "    .dataframe tbody tr th:only-of-type {\n",
       "        vertical-align: middle;\n",
       "    }\n",
       "\n",
       "    .dataframe tbody tr th {\n",
       "        vertical-align: top;\n",
       "    }\n",
       "\n",
       "    .dataframe thead th {\n",
       "        text-align: right;\n",
       "    }\n",
       "</style>\n",
       "<table border=\"1\" class=\"dataframe\">\n",
       "  <thead>\n",
       "    <tr style=\"text-align: right;\">\n",
       "      <th></th>\n",
       "      <th>id</th>\n",
       "      <th>title</th>\n",
       "      <th>content</th>\n",
       "      <th>ingredients</th>\n",
       "    </tr>\n",
       "  </thead>\n",
       "  <tbody>\n",
       "    <tr>\n",
       "      <th>0</th>\n",
       "      <td>0</td>\n",
       "      <td>Abált szalonna</td>\n",
       "      <td>Frissen bontott tokaszalonnát sós vízben forrá...</td>\n",
       "      <td>[tokaszalonna, só, fokhagyma, fűszerpaprika, f...</td>\n",
       "    </tr>\n",
       "    <tr>\n",
       "      <th>1</th>\n",
       "      <td>1</td>\n",
       "      <td>Áfonya torta</td>\n",
       "      <td>A makadámdiót ledaráljuk. A tésztához a szójat...</td>\n",
       "      <td>[tönköly búzaliszt, makadámdió, szójatejföl, n...</td>\n",
       "    </tr>\n",
       "    <tr>\n",
       "      <th>2</th>\n",
       "      <td>2</td>\n",
       "      <td>Áfonyás húsgolyó</td>\n",
       "      <td>25 dkg kukoricadarát annyi sós vízben megfőzün...</td>\n",
       "      <td>[]</td>\n",
       "    </tr>\n",
       "    <tr>\n",
       "      <th>3</th>\n",
       "      <td>3</td>\n",
       "      <td>Áfonyás, kevert sütemény mandulával</td>\n",
       "      <td>A sütőt 190 fokra előmelegítjük. Egy 20x30 cm-...</td>\n",
       "      <td>[a morzsához:, 40 g liszt, 100 g cukor, 1 tk ő...</td>\n",
       "    </tr>\n",
       "    <tr>\n",
       "      <th>4</th>\n",
       "      <td>4</td>\n",
       "      <td>Áfonyás-narancsos sajttorta</td>\n",
       "      <td>A kekszet, a zabpelyhet és a nádcukrot összeda...</td>\n",
       "      <td>[5 dk teljes kiőrlésű búzadarás keksz, 5 dkg z...</td>\n",
       "    </tr>\n",
       "    <tr>\n",
       "      <th>...</th>\n",
       "      <td>...</td>\n",
       "      <td>...</td>\n",
       "      <td>...</td>\n",
       "      <td>...</td>\n",
       "    </tr>\n",
       "    <tr>\n",
       "      <th>4917</th>\n",
       "      <td>4917</td>\n",
       "      <td>Zöldségleves csipetkével és csirkével</td>\n",
       "      <td>A zöldségeket megmosom, kockára vágom. A hagym...</td>\n",
       "      <td>[1/2 csirke,, 1 kg burgonya,, 3 új sárgarépa,,...</td>\n",
       "    </tr>\n",
       "    <tr>\n",
       "      <th>4918</th>\n",
       "      <td>4918</td>\n",
       "      <td>Zsidó tojás</td>\n",
       "      <td>A hagymát apróra vágjuk és serpenyőben megpirí...</td>\n",
       "      <td>[0 .5 kg kacsamáj, 2 db tojás, mustár, 1 nagy ...</td>\n",
       "    </tr>\n",
       "    <tr>\n",
       "      <th>4919</th>\n",
       "      <td>4919</td>\n",
       "      <td>Zöld almás görögdinnye frissítő</td>\n",
       "      <td>Egyszerű dolgunk van. A kimagozott görögdinnye...</td>\n",
       "      <td>[7,5 dl görögdinnyevelő, 2 db zöld alma, 20 sz...</td>\n",
       "    </tr>\n",
       "    <tr>\n",
       "      <th>4920</th>\n",
       "      <td>4920</td>\n",
       "      <td>Zserbó</td>\n",
       "      <td>A tésztához felfuttatjuk az élesztőt. A liszte...</td>\n",
       "      <td>[50 dkg liszt, 10 dkg cukor, 20 dkg zsír, 1,5 ...</td>\n",
       "    </tr>\n",
       "    <tr>\n",
       "      <th>4921</th>\n",
       "      <td>4921</td>\n",
       "      <td>Zserbó cake pop</td>\n",
       "      <td>A maradék zserbót késes robotgépben összedarál...</td>\n",
       "      <td>[maradék zserbó, baracklekvár, mascarpone, por...</td>\n",
       "    </tr>\n",
       "  </tbody>\n",
       "</table>\n",
       "<p>4922 rows × 4 columns</p>\n",
       "</div>"
      ],
      "text/plain": [
       "        id                                  title  \\\n",
       "0        0                         Abált szalonna   \n",
       "1        1                           Áfonya torta   \n",
       "2        2                       Áfonyás húsgolyó   \n",
       "3        3    Áfonyás, kevert sütemény mandulával   \n",
       "4        4            Áfonyás-narancsos sajttorta   \n",
       "...    ...                                    ...   \n",
       "4917  4917  Zöldségleves csipetkével és csirkével   \n",
       "4918  4918                            Zsidó tojás   \n",
       "4919  4919        Zöld almás görögdinnye frissítő   \n",
       "4920  4920                                 Zserbó   \n",
       "4921  4921                        Zserbó cake pop   \n",
       "\n",
       "                                                content  \\\n",
       "0     Frissen bontott tokaszalonnát sós vízben forrá...   \n",
       "1     A makadámdiót ledaráljuk. A tésztához a szójat...   \n",
       "2     25 dkg kukoricadarát annyi sós vízben megfőzün...   \n",
       "3     A sütőt 190 fokra előmelegítjük. Egy 20x30 cm-...   \n",
       "4     A kekszet, a zabpelyhet és a nádcukrot összeda...   \n",
       "...                                                 ...   \n",
       "4917  A zöldségeket megmosom, kockára vágom. A hagym...   \n",
       "4918  A hagymát apróra vágjuk és serpenyőben megpirí...   \n",
       "4919  Egyszerű dolgunk van. A kimagozott görögdinnye...   \n",
       "4920  A tésztához felfuttatjuk az élesztőt. A liszte...   \n",
       "4921  A maradék zserbót késes robotgépben összedarál...   \n",
       "\n",
       "                                            ingredients  \n",
       "0     [tokaszalonna, só, fokhagyma, fűszerpaprika, f...  \n",
       "1     [tönköly búzaliszt, makadámdió, szójatejföl, n...  \n",
       "2                                                    []  \n",
       "3     [a morzsához:, 40 g liszt, 100 g cukor, 1 tk ő...  \n",
       "4     [5 dk teljes kiőrlésű búzadarás keksz, 5 dkg z...  \n",
       "...                                                 ...  \n",
       "4917  [1/2 csirke,, 1 kg burgonya,, 3 új sárgarépa,,...  \n",
       "4918  [0 .5 kg kacsamáj, 2 db tojás, mustár, 1 nagy ...  \n",
       "4919  [7,5 dl görögdinnyevelő, 2 db zöld alma, 20 sz...  \n",
       "4920  [50 dkg liszt, 10 dkg cukor, 20 dkg zsír, 1,5 ...  \n",
       "4921  [maradék zserbó, baracklekvár, mascarpone, por...  \n",
       "\n",
       "[4922 rows x 4 columns]"
      ]
     },
     "execution_count": 3,
     "metadata": {},
     "output_type": "execute_result"
    }
   ],
   "source": [
    "df = pd.read_json(\"recipes.json\")\n",
    "df"
   ]
  },
  {
   "cell_type": "code",
   "execution_count": 4,
   "metadata": {},
   "outputs": [],
   "source": [
    "df['ingredients_str'] = df['ingredients'].apply(lambda x: \" \".join(x))\n",
    "\n",
    "# Check the preprocessed data\n",
    "print(data[['title', 'ingredients_str']].head())"
   ]
  },
  {
   "cell_type": "code",
   "execution_count": null,
   "metadata": {},
   "outputs": [],
   "source": [
    "vectorizer = TfidfVectorizer()\n",
    "ingredient_vectors = vectorizer.fit_transform(df['ingredients_str'])\n",
    "\n",
    "# Find similar recipes\n",
    "similarity_matrix = cosine_similarity(ingredient_vectors)"
   ]
  },
  {
   "cell_type": "code",
   "execution_count": 5,
   "metadata": {},
   "outputs": [],
   "source": [
    "def recommend_recipe(recipe_id, similarity_matrix, df, top_n=5):\n",
    "    sim_scores = list(enumerate(similarity_matrix[recipe_id]))\n",
    "    sim_scores = sorted(sim_scores, key=lambda x: x[1], reverse=True)\n",
    "    top_recipes = [df.iloc[i[0]] for i in sim_scores[1:top_n+1]]\n",
    "    return top_recipes"
   ]
  },
  {
   "cell_type": "code",
   "execution_count": 6,
   "metadata": {},
   "outputs": [
    {
     "data": {
      "text/plain": [
       "[id                                                              4590\n",
       " title                            Áfonyás, kevert sütemény mandulával\n",
       " content            A sütőt 190 fokra előmelegítjük. Egy 20x30 cm-...\n",
       " ingredients        [a morzsához:, 40 g liszt, 100 g cukor, 1 tk ő...\n",
       " ingredients_str    a morzsához: 40 g liszt 100 g cukor 1 tk őrölt...\n",
       " Name: 4590, dtype: object,\n",
       " id                                                              3588\n",
       " title                                            Céklás-almás morzsa\n",
       " content            Egy keverőtálban összekeverünk mandulalisztet,...\n",
       " ingredients        [50 g pekándió, 50 g fenyőmag, 150 g cékla, ba...\n",
       " ingredients_str    50 g pekándió 50 g fenyőmag 150 g cékla balzsa...\n",
       " Name: 3588, dtype: object,\n",
       " id                                                               703\n",
       " title                                                         Éclair\n",
       " content            A sütőt 200 fokra előmelegítjük A tejet, vizet...\n",
       " ingredients        [a tésztához:, 12,5 dkg liszt, 2 dl tej, 0,5 d...\n",
       " ingredients_str    a tésztához: 12,5 dkg liszt 2 dl tej 0,5 dl ví...\n",
       " Name: 703, dtype: object,\n",
       " id                                                              4657\n",
       " title                                                         Éclair\n",
       " content            A sütőt 200 fokra előmelegítjük A tejet, vizet...\n",
       " ingredients        [a tésztához:, 12,5 dkg liszt, 2 dl tej, 0,5 d...\n",
       " ingredients_str    a tésztához: 12,5 dkg liszt 2 dl tej 0,5 dl ví...\n",
       " Name: 4657, dtype: object,\n",
       " id                                                              2469\n",
       " title                                      Répatorta muffin formában\n",
       " content            A cukrot, az olajat, a narancslevet a vaníliát...\n",
       " ingredients        [20 dkg barna cukor, 0,75 dl semleges ízű olaj...\n",
       " ingredients_str    20 dkg barna cukor 0,75 dl semleges ízű olaj 2...\n",
       " Name: 2469, dtype: object]"
      ]
     },
     "execution_count": 6,
     "metadata": {},
     "output_type": "execute_result"
    }
   ],
   "source": [
    "recommend_recipe(3, similarity_matrix, df)"
   ]
  },
  {
   "cell_type": "code",
   "execution_count": 9,
   "metadata": {},
   "outputs": [
    {
     "name": "stdout",
     "output_type": "stream",
     "text": [
      "                                 title  \\\n",
      "0                       Abált szalonna   \n",
      "1                         Áfonya torta   \n",
      "2                     Áfonyás húsgolyó   \n",
      "3  Áfonyás, kevert sütemény mandulával   \n",
      "4          Áfonyás-narancsos sajttorta   \n",
      "\n",
      "                              ingredients_normalized  \n",
      "0  [tokaszalonna, só, fokhagyma, fűszerpaprika, f...  \n",
      "1  [tönköly búzaliszt, makadámdió, szójatejföl, n...  \n",
      "2                                                 []  \n",
      "3  [a morzsához:, 40 g liszt, 100 g cukor, 1 tk ő...  \n",
      "4  [5 dk teljes kiőrlésű búzadarás keksz, 5 dkg z...  \n"
     ]
    }
   ],
   "source": [
    "# Normalize ingredients (convert to lowercase for consistency)\n",
    "df['ingredients_normalized'] = df['ingredients'].apply(\n",
    "    lambda x: [ingredient.lower() for ingredient in x]\n",
    ")\n",
    "\n",
    "# Check the normalized data\n",
    "print(df[['title', 'ingredients_normalized']].head())"
   ]
  },
  {
   "cell_type": "code",
   "execution_count": 10,
   "metadata": {},
   "outputs": [
    {
     "name": "stdout",
     "output_type": "stream",
     "text": [
      "        id                                              title  \\\n",
      "2409  2409                       Radicchios-mentás palacsinta   \n",
      "2338  2338                            Pisztráng májjal töltve   \n",
      "2831  2831                                  Sütőtökös rizottó   \n",
      "2627  2627         Scampikrémmel töltött tintahal brokkolival   \n",
      "328    328  Borjútekercs marsalaval ízesített kacsamájjal ...   \n",
      "\n",
      "      ingredient_overlap  \n",
      "2409                   3  \n",
      "2338                   3  \n",
      "2831                   3  \n",
      "2627                   3  \n",
      "328                    3  \n"
     ]
    }
   ],
   "source": [
    "def find_recipes_by_ingredients(user_ingredients, data, top_n=5):\n",
    "    user_ingredients = [ingredient.lower() for ingredient in user_ingredients]  # Normalize user input\n",
    "    \n",
    "    # Calculate overlap score for each recipe\n",
    "    data['ingredient_overlap'] = data['ingredients_normalized'].apply(\n",
    "        lambda recipe_ingredients: len(set(user_ingredients) & set(recipe_ingredients))\n",
    "    )\n",
    "    \n",
    "    # Sort recipes by overlap score in descending order\n",
    "    recommendations = data.sort_values(by='ingredient_overlap', ascending=False).head(top_n)\n",
    "    \n",
    "    # Return the top matching recipes\n",
    "    return recommendations[['id', 'title', 'ingredient_overlap']]\n",
    "\n",
    "# Example usage\n",
    "user_ingredients = [\"vaj\", \"fokhagyma\", \"liszt\"]  # User input\n",
    "print(find_recipes_by_ingredients(user_ingredients, df))"
   ]
  },
  {
   "cell_type": "code",
   "execution_count": 15,
   "metadata": {},
   "outputs": [
    {
     "name": "stdout",
     "output_type": "stream",
     "text": [
      "        id                                              title  combined_score\n",
      "2800  2800  Sült libacomb diós nudlival és sült gyümölcsökkel        1.410270\n",
      "34      34                                       Almás kalács        0.716719\n",
      "3622  3622  Csillagánizsos körte-sütőtök kompót - Segal Vi...        0.716102\n",
      "4393  4393                 Édes, savanyú hagymaszószos kagyló        0.711262\n",
      "3518  3518                                   Alma pongyolában        0.709784\n"
     ]
    }
   ],
   "source": [
    "def combined_recommendation(user_ingredients, similarity_matrix, data, top_n=5):\n",
    "    # Match by ingredients\n",
    "    ingredient_matches = find_recipes_by_ingredients(user_ingredients, data, top_n=None)\n",
    "    \n",
    "    # Add similarity scores\n",
    "    ingredient_matches['similarity_score'] = ingredient_matches['id'].apply(\n",
    "        lambda recipe_id: similarity_matrix[data.index[data['id'] == recipe_id][0]].mean()\n",
    "    )\n",
    "    \n",
    "    # Combine scores (weighted average)\n",
    "    ingredient_matches['combined_score'] = ingredient_matches['ingredient_overlap'] * 0.7 + ingredient_matches['similarity_score'] * 0.3\n",
    "    \n",
    "    # Sort by combined score\n",
    "    recommendations = ingredient_matches.sort_values(by='combined_score', ascending=False).head(top_n)\n",
    "    \n",
    "    return recommendations[['id', 'title', 'combined_score']]\n",
    "\n",
    "# Example usage\n",
    "user_ingredients = [\"alma\", \"körte\", \"cseressznye\"]  # User input\n",
    "print(combined_recommendation(user_ingredients, similarity_matrix, df))\n"
   ]
  }
 ],
 "metadata": {
  "kernelspec": {
   "display_name": "Python 3 (ipykernel)",
   "language": "python",
   "name": "python3"
  },
  "language_info": {
   "codemirror_mode": {
    "name": "ipython",
    "version": 3
   },
   "file_extension": ".py",
   "mimetype": "text/x-python",
   "name": "python",
   "nbconvert_exporter": "python",
   "pygments_lexer": "ipython3",
   "version": "3.12.7"
  }
 },
 "nbformat": 4,
 "nbformat_minor": 4
}
